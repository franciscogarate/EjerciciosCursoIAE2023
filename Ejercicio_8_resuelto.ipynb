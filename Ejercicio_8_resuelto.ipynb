{
 "cells": [
  {
   "cell_type": "markdown",
   "metadata": {},
   "source": [
    "# Ejercicio 8. Descuento de flujos\n",
    "\n",
    "Utilizando Pandas y NumPy, calcular el NPV de 100 euros pagaderos en 10 anualidades, desde el 31-12-2022 al 31-12-2031.\n",
    "\n",
    "* Descontados al 2%"
   ]
  },
  {
   "cell_type": "code",
   "execution_count": 1,
   "metadata": {},
   "outputs": [
    {
     "data": {
      "text/html": [
       "<div>\n",
       "<style scoped>\n",
       "    .dataframe tbody tr th:only-of-type {\n",
       "        vertical-align: middle;\n",
       "    }\n",
       "\n",
       "    .dataframe tbody tr th {\n",
       "        vertical-align: top;\n",
       "    }\n",
       "\n",
       "    .dataframe thead th {\n",
       "        text-align: right;\n",
       "    }\n",
       "</style>\n",
       "<table border=\"1\" class=\"dataframe\">\n",
       "  <thead>\n",
       "    <tr style=\"text-align: right;\">\n",
       "      <th></th>\n",
       "      <th>Fecha</th>\n",
       "      <th>Importe</th>\n",
       "    </tr>\n",
       "  </thead>\n",
       "  <tbody>\n",
       "    <tr>\n",
       "      <th>0</th>\n",
       "      <td>2021-12-31</td>\n",
       "      <td>100.0</td>\n",
       "    </tr>\n",
       "    <tr>\n",
       "      <th>1</th>\n",
       "      <td>2022-12-31</td>\n",
       "      <td>100.0</td>\n",
       "    </tr>\n",
       "    <tr>\n",
       "      <th>2</th>\n",
       "      <td>2023-12-31</td>\n",
       "      <td>100.0</td>\n",
       "    </tr>\n",
       "    <tr>\n",
       "      <th>3</th>\n",
       "      <td>2024-12-31</td>\n",
       "      <td>100.0</td>\n",
       "    </tr>\n",
       "    <tr>\n",
       "      <th>4</th>\n",
       "      <td>2025-12-31</td>\n",
       "      <td>100.0</td>\n",
       "    </tr>\n",
       "    <tr>\n",
       "      <th>5</th>\n",
       "      <td>2026-12-31</td>\n",
       "      <td>100.0</td>\n",
       "    </tr>\n",
       "    <tr>\n",
       "      <th>6</th>\n",
       "      <td>2027-12-31</td>\n",
       "      <td>100.0</td>\n",
       "    </tr>\n",
       "    <tr>\n",
       "      <th>7</th>\n",
       "      <td>2028-12-31</td>\n",
       "      <td>100.0</td>\n",
       "    </tr>\n",
       "    <tr>\n",
       "      <th>8</th>\n",
       "      <td>2029-12-31</td>\n",
       "      <td>100.0</td>\n",
       "    </tr>\n",
       "    <tr>\n",
       "      <th>9</th>\n",
       "      <td>2030-12-31</td>\n",
       "      <td>100.0</td>\n",
       "    </tr>\n",
       "  </tbody>\n",
       "</table>\n",
       "</div>"
      ],
      "text/plain": [
       "       Fecha  Importe\n",
       "0 2021-12-31    100.0\n",
       "1 2022-12-31    100.0\n",
       "2 2023-12-31    100.0\n",
       "3 2024-12-31    100.0\n",
       "4 2025-12-31    100.0\n",
       "5 2026-12-31    100.0\n",
       "6 2027-12-31    100.0\n",
       "7 2028-12-31    100.0\n",
       "8 2029-12-31    100.0\n",
       "9 2030-12-31    100.0"
      ]
     },
     "execution_count": 1,
     "metadata": {},
     "output_type": "execute_result"
    }
   ],
   "source": [
    "import pandas as pd\n",
    "import numpy as np\n",
    "s = pd.date_range(start='2022-12-31', periods=10, freq='Y')\n",
    "df = pd.DataFrame(s, columns=['Fecha'])\n",
    "df['Importe'] = 100.\n",
    "df"
   ]
  },
  {
   "cell_type": "code",
   "execution_count": 2,
   "metadata": {},
   "outputs": [
    {
     "data": {
      "text/html": [
       "<div>\n",
       "<style scoped>\n",
       "    .dataframe tbody tr th:only-of-type {\n",
       "        vertical-align: middle;\n",
       "    }\n",
       "\n",
       "    .dataframe tbody tr th {\n",
       "        vertical-align: top;\n",
       "    }\n",
       "\n",
       "    .dataframe thead th {\n",
       "        text-align: right;\n",
       "    }\n",
       "</style>\n",
       "<table border=\"1\" class=\"dataframe\">\n",
       "  <thead>\n",
       "    <tr style=\"text-align: right;\">\n",
       "      <th></th>\n",
       "      <th>Fecha</th>\n",
       "      <th>Importe</th>\n",
       "      <th>factor</th>\n",
       "    </tr>\n",
       "  </thead>\n",
       "  <tbody>\n",
       "    <tr>\n",
       "      <th>0</th>\n",
       "      <td>2021-12-31</td>\n",
       "      <td>100.0</td>\n",
       "      <td>1.000000</td>\n",
       "    </tr>\n",
       "    <tr>\n",
       "      <th>1</th>\n",
       "      <td>2022-12-31</td>\n",
       "      <td>100.0</td>\n",
       "      <td>0.980392</td>\n",
       "    </tr>\n",
       "    <tr>\n",
       "      <th>2</th>\n",
       "      <td>2023-12-31</td>\n",
       "      <td>100.0</td>\n",
       "      <td>0.961169</td>\n",
       "    </tr>\n",
       "    <tr>\n",
       "      <th>3</th>\n",
       "      <td>2024-12-31</td>\n",
       "      <td>100.0</td>\n",
       "      <td>0.942322</td>\n",
       "    </tr>\n",
       "    <tr>\n",
       "      <th>4</th>\n",
       "      <td>2025-12-31</td>\n",
       "      <td>100.0</td>\n",
       "      <td>0.923845</td>\n",
       "    </tr>\n",
       "    <tr>\n",
       "      <th>5</th>\n",
       "      <td>2026-12-31</td>\n",
       "      <td>100.0</td>\n",
       "      <td>0.905731</td>\n",
       "    </tr>\n",
       "    <tr>\n",
       "      <th>6</th>\n",
       "      <td>2027-12-31</td>\n",
       "      <td>100.0</td>\n",
       "      <td>0.887971</td>\n",
       "    </tr>\n",
       "    <tr>\n",
       "      <th>7</th>\n",
       "      <td>2028-12-31</td>\n",
       "      <td>100.0</td>\n",
       "      <td>0.870560</td>\n",
       "    </tr>\n",
       "    <tr>\n",
       "      <th>8</th>\n",
       "      <td>2029-12-31</td>\n",
       "      <td>100.0</td>\n",
       "      <td>0.853490</td>\n",
       "    </tr>\n",
       "    <tr>\n",
       "      <th>9</th>\n",
       "      <td>2030-12-31</td>\n",
       "      <td>100.0</td>\n",
       "      <td>0.836755</td>\n",
       "    </tr>\n",
       "  </tbody>\n",
       "</table>\n",
       "</div>"
      ],
      "text/plain": [
       "       Fecha  Importe    factor\n",
       "0 2021-12-31    100.0  1.000000\n",
       "1 2022-12-31    100.0  0.980392\n",
       "2 2023-12-31    100.0  0.961169\n",
       "3 2024-12-31    100.0  0.942322\n",
       "4 2025-12-31    100.0  0.923845\n",
       "5 2026-12-31    100.0  0.905731\n",
       "6 2027-12-31    100.0  0.887971\n",
       "7 2028-12-31    100.0  0.870560\n",
       "8 2029-12-31    100.0  0.853490\n",
       "9 2030-12-31    100.0  0.836755"
      ]
     },
     "execution_count": 2,
     "metadata": {},
     "output_type": "execute_result"
    }
   ],
   "source": [
    "df['factor'] = 1 / (1+0.02) ** df.index\n",
    "df"
   ]
  },
  {
   "cell_type": "code",
   "execution_count": 3,
   "metadata": {},
   "outputs": [
    {
     "name": "stdout",
     "output_type": "stream",
     "text": [
      "NPV: 916.22\n"
     ]
    }
   ],
   "source": [
    "print(\"NPV: %.2f\" % (np.vdot(df.Importe, df.factor)))"
   ]
  },
  {
   "cell_type": "markdown",
   "metadata": {},
   "source": [
    "* Descontados utilizando la curva libre de riesgo (RFR) de EIOPA a 31-12-2022."
   ]
  },
  {
   "cell_type": "code",
   "execution_count": 4,
   "metadata": {},
   "outputs": [
    {
     "name": "stdout",
     "output_type": "stream",
     "text": [
      "       Fecha  Importe    factor      rfr  factor_rfr\n",
      "0 2021-12-31    100.0  1.000000 -0.00585    1.005884\n",
      "1 2022-12-31    100.0  0.980392 -0.00395    1.007947\n",
      "2 2023-12-31    100.0  0.961169 -0.00246    1.007416\n",
      "3 2024-12-31    100.0  0.942322 -0.00145    1.005821\n",
      "4 2025-12-31    100.0  0.923845 -0.00084    1.004211\n",
      "5 2026-12-31    100.0  0.905731 -0.00026    1.001561\n",
      "6 2027-12-31    100.0  0.887971  0.00030    0.997903\n",
      "7 2028-12-31    100.0  0.870560  0.00088    0.992988\n",
      "8 2029-12-31    100.0  0.853490  0.00147    0.986867\n",
      "9 2030-12-31    100.0  0.836755  0.00205    0.979729\n"
     ]
    }
   ],
   "source": [
    "filename='EIOPA_RFR_20211231_Term_Structures.xlsx'\n",
    "sheetname='RFR_spot_no_VA'\n",
    "rfr = pd.read_excel(filename, sheet_name=sheetname, skiprows=9, usecols=(1,2), names=['t','Euro'])\n",
    "df['rfr'] = rfr['Euro'].loc[:10].copy()\n",
    "df['factor_rfr'] = 1 / (1+df.rfr) ** (df.index+1)\n",
    "print(df)"
   ]
  },
  {
   "cell_type": "code",
   "execution_count": 5,
   "metadata": {},
   "outputs": [
    {
     "name": "stdout",
     "output_type": "stream",
     "text": [
      "NPV (RFR): 999.03\n"
     ]
    }
   ],
   "source": [
    "print(\"NPV (RFR): %.2f\" % (np.vdot(df.Importe, df.factor_rfr)))"
   ]
  }
 ],
 "metadata": {
  "kernelspec": {
   "display_name": "Python 3",
   "language": "python",
   "name": "python3"
  },
  "language_info": {
   "codemirror_mode": {
    "name": "ipython",
    "version": 3
   },
   "file_extension": ".py",
   "mimetype": "text/x-python",
   "name": "python",
   "nbconvert_exporter": "python",
   "pygments_lexer": "ipython3",
   "version": "3.8.3"
  }
 },
 "nbformat": 4,
 "nbformat_minor": 4
}
