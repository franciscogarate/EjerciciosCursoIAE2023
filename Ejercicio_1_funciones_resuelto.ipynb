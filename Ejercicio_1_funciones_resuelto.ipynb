{
 "cells": [
  {
   "cell_type": "markdown",
   "metadata": {},
   "source": [
    "## Creación de funciones en python"
   ]
  },
  {
   "cell_type": "markdown",
   "metadata": {},
   "source": [
    "La función del índice de masa corporal es:\n",
    "$IMC = \\frac{masa}{estatura^2}$\n",
    "\n",
    "| Composición corporal | Índice de masa corporal (IMC) |\n",
    "| --- | --- |\n",
    "| Peso inferior al normal | < 18.5 |\n",
    "| Normal | 18.5 – 24.9 | \n",
    "| Peso superior al normal | > 25.0 | \n",
    "\n",
    "\n",
    "Se pide crear una función que calcule el IMC y otra función que devuelva en texto la composición corporal."
   ]
  },
  {
   "cell_type": "code",
   "execution_count": 1,
   "metadata": {},
   "outputs": [],
   "source": [
    "def imc(masa, estatura):\n",
    "    return masa / (estatura ** 2)"
   ]
  },
  {
   "cell_type": "code",
   "execution_count": 5,
   "metadata": {},
   "outputs": [
    {
     "data": {
      "text/plain": [
       "24.95659722222222"
      ]
     },
     "execution_count": 5,
     "metadata": {},
     "output_type": "execute_result"
    }
   ],
   "source": [
    "imc(92,1.92)"
   ]
  },
  {
   "cell_type": "code",
   "execution_count": 13,
   "metadata": {},
   "outputs": [],
   "source": [
    "def composicion(x):\n",
    "    x = float(x)\n",
    "    if x < 18.5:\n",
    "        return 'Debajo de lo normal'\n",
    "    elif 18.5 <= x < 24.9:\n",
    "        return 'normal'\n",
    "    else:\n",
    "        return 'superior a lo normal'"
   ]
  },
  {
   "cell_type": "code",
   "execution_count": 14,
   "metadata": {},
   "outputs": [
    {
     "data": {
      "text/plain": [
       "'normal'"
      ]
     },
     "execution_count": 14,
     "metadata": {},
     "output_type": "execute_result"
    }
   ],
   "source": [
    "composicion(18.5)"
   ]
  },
  {
   "cell_type": "code",
   "execution_count": 15,
   "metadata": {},
   "outputs": [],
   "source": [
    "import numpy as np\n"
   ]
  },
  {
   "cell_type": "code",
   "execution_count": 16,
   "metadata": {},
   "outputs": [
    {
     "data": {
      "text/plain": [
       "array([[-0.38503223],\n",
       "       [-0.40764785],\n",
       "       [ 0.31707399],\n",
       "       [-2.26649175],\n",
       "       [ 0.55156565]])"
      ]
     },
     "execution_count": 16,
     "metadata": {},
     "output_type": "execute_result"
    }
   ],
   "source": [
    "np.random.randn(5,1)"
   ]
  },
  {
   "cell_type": "code",
   "execution_count": null,
   "metadata": {},
   "outputs": [],
   "source": []
  }
 ],
 "metadata": {
  "kernelspec": {
   "display_name": "Python 3",
   "language": "python",
   "name": "python3"
  },
  "language_info": {
   "codemirror_mode": {
    "name": "ipython",
    "version": 3
   },
   "file_extension": ".py",
   "mimetype": "text/x-python",
   "name": "python",
   "nbconvert_exporter": "python",
   "pygments_lexer": "ipython3",
   "version": "3.8.3"
  }
 },
 "nbformat": 4,
 "nbformat_minor": 4
}
